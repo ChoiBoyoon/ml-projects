{
 "cells": [
  {
   "cell_type": "markdown",
   "metadata": {},
   "source": [
    "### 1. importing the data"
   ]
  },
  {
   "cell_type": "code",
   "execution_count": 1,
   "metadata": {
    "scrolled": true
   },
   "outputs": [
    {
     "name": "stdout",
     "output_type": "stream",
     "text": [
      "      user_id date_served marketing_channel          variant converted  \\\n",
      "0  a100000029  2018-01-01         House Ads  personalization      True   \n",
      "1  a100000030  2018-01-01         House Ads  personalization      True   \n",
      "2  a100000031  2018-01-01         House Ads  personalization      True   \n",
      "3  a100000032  2018-01-01         House Ads  personalization      True   \n",
      "4  a100000033  2018-01-01         House Ads  personalization      True   \n",
      "\n",
      "  language_displayed language_preferred    age_group date_subscribed  \\\n",
      "0            English            English   0-18 years      2018-01-01   \n",
      "1            English            English  19-24 years      2018-01-01   \n",
      "2            English            English  24-30 years      2018-01-01   \n",
      "3            English            English  30-36 years      2018-01-01   \n",
      "4            English            English  36-45 years      2018-01-01   \n",
      "\n",
      "  date_canceled subscribing_channel is_retained  \n",
      "0           NaT           House Ads        True  \n",
      "1           NaT           House Ads        True  \n",
      "2           NaT           House Ads        True  \n",
      "3           NaT           House Ads        True  \n",
      "4           NaT           House Ads        True  \n"
     ]
    }
   ],
   "source": [
    "import pandas as pd\n",
    "\n",
    "marketing = pd.read_csv(\"marketing.csv\", parse_dates = ['date_served', 'date_subscribed', 'date_canceled'])\n",
    "print(marketing.head())"
   ]
  },
  {
   "cell_type": "markdown",
   "metadata": {},
   "source": [
    "### 2. examining the data \n",
    "* to ensure the validity of the dataset\n",
    "* to have a more holistic understanding what the dataset contains"
   ]
  },
  {
   "cell_type": "code",
   "execution_count": 2,
   "metadata": {},
   "outputs": [
    {
     "name": "stdout",
     "output_type": "stream",
     "text": [
      "                     count unique                  top  freq      first  \\\n",
      "user_id              10037   7309           a100000882    12        NaT   \n",
      "date_served          10021     31  2018-01-15 00:00:00   789 2018-01-01   \n",
      "marketing_channel    10022      5            House Ads  4733        NaT   \n",
      "variant              10037      2              control  5091        NaT   \n",
      "converted            10022      2                False  8946        NaT   \n",
      "language_displayed   10037      4              English  9793        NaT   \n",
      "language_preferred   10037      4              English  9275        NaT   \n",
      "age_group            10037      7          19-24 years  1682        NaT   \n",
      "date_subscribed       1856     31  2018-01-16 00:00:00   163 2018-01-01   \n",
      "date_canceled          577    115  2018-04-02 00:00:00    15 2018-01-05   \n",
      "subscribing_channel   1856      5            Instagram   600        NaT   \n",
      "is_retained           1856      2                 True  1279        NaT   \n",
      "\n",
      "                          last  \n",
      "user_id                    NaT  \n",
      "date_served         2018-01-31  \n",
      "marketing_channel          NaT  \n",
      "variant                    NaT  \n",
      "converted                  NaT  \n",
      "language_displayed         NaT  \n",
      "language_preferred         NaT  \n",
      "age_group                  NaT  \n",
      "date_subscribed     2018-01-31  \n",
      "date_canceled       2018-05-09  \n",
      "subscribing_channel        NaT  \n",
      "is_retained                NaT  \n"
     ]
    }
   ],
   "source": [
    "#print the summary statistics\n",
    "print(marketing.describe().T)"
   ]
  },
  {
   "cell_type": "code",
   "execution_count": 3,
   "metadata": {},
   "outputs": [
    {
     "name": "stdout",
     "output_type": "stream",
     "text": [
      "<class 'pandas.core.frame.DataFrame'>\n",
      "RangeIndex: 10037 entries, 0 to 10036\n",
      "Data columns (total 12 columns):\n",
      "user_id                10037 non-null object\n",
      "date_served            10021 non-null datetime64[ns]\n",
      "marketing_channel      10022 non-null object\n",
      "variant                10037 non-null object\n",
      "converted              10022 non-null object\n",
      "language_displayed     10037 non-null object\n",
      "language_preferred     10037 non-null object\n",
      "age_group              10037 non-null object\n",
      "date_subscribed        1856 non-null datetime64[ns]\n",
      "date_canceled          577 non-null datetime64[ns]\n",
      "subscribing_channel    1856 non-null object\n",
      "is_retained            1856 non-null object\n",
      "dtypes: datetime64[ns](3), object(9)\n",
      "memory usage: 941.1+ KB\n",
      "None\n"
     ]
    }
   ],
   "source": [
    "#print the number of non-missing values and the data types of all columns\n",
    "print(marketing.info())"
   ]
  },
  {
   "cell_type": "code",
   "execution_count": 4,
   "metadata": {
    "scrolled": true
   },
   "outputs": [
    {
     "name": "stdout",
     "output_type": "stream",
     "text": [
      "object\n",
      "[True False nan]\n"
     ]
    }
   ],
   "source": [
    "#check dtype of is_retained, converted column\n",
    "print(marketing['is_retained'].dtype)\n",
    "print(marketing['is_retained'].unique())\n",
    "\n",
    "print(marketing['converted'].dtype)\n",
    "print(marketing['converted'].unique())"
   ]
  },
  {
   "cell_type": "code",
   "execution_count": 15,
   "metadata": {},
   "outputs": [
    {
     "name": "stdout",
     "output_type": "stream",
     "text": [
      "bool\n",
      "bool\n"
     ]
    }
   ],
   "source": [
    "#change dtype appropriately\n",
    "marketing['is_retained'] = marketing['is_retained'].astype('bool')\n",
    "marketing['converted'] = marketing['converted'].astype('bool')\n",
    "print(marketing['is_retained'].dtype)\n",
    "print(marketing['converted'].dtype)"
   ]
  },
  {
   "cell_type": "markdown",
   "metadata": {},
   "source": [
    "### Feature engineering\n",
    "> Adding new columns that derive information from existing data or based on domain knowledge\n",
    "* Even in relatively simple datasets, there are always new characteristics you could pull out to create a more in-depth analysis."
   ]
  },
  {
   "cell_type": "code",
   "execution_count": 6,
   "metadata": {},
   "outputs": [
    {
     "name": "stdout",
     "output_type": "stream",
     "text": [
      "object\n",
      "['House Ads' 'Push' 'Facebook' 'Instagram' 'Email' nan]\n"
     ]
    }
   ],
   "source": [
    "#add 'channel_code' column\n",
    "print(marketing['marketing_channel'].dtype)\n",
    "print(marketing['marketing_channel'].unique())"
   ]
  },
  {
   "cell_type": "code",
   "execution_count": 13,
   "metadata": {},
   "outputs": [
    {
     "name": "stdout",
     "output_type": "stream",
     "text": [
      "0    1.0\n",
      "1    1.0\n",
      "2    1.0\n",
      "3    1.0\n",
      "4    1.0\n",
      "Name: channel_code, dtype: float64\n",
      "[ 1.  5.  3.  2.  4. nan]\n"
     ]
    },
    {
     "data": {
      "text/plain": [
       "<matplotlib.axes._subplots.AxesSubplot at 0x11b504a50>"
      ]
     },
     "execution_count": 13,
     "metadata": {},
     "output_type": "execute_result"
    },
    {
     "data": {
      "image/png": "[encoded data removed]",
      "text/plain": [
       "<Figure size 432x288 with 1 Axes>"
      ]
     },
     "metadata": {
      "needs_background": "light"
     },
     "output_type": "display_data"
    }
   ],
   "source": [
    "channel_dict = {'House Ads':1, 'Instagram':2, 'Facebook':3, 'Email':4, 'Push':5}\n",
    "marketing['channel_code'] = marketing['marketing_channel'].map(channel_dict)\n",
    "print(marketing['channel_code'].head())\n",
    "print(marketing['channel_code'].unique())\n",
    "marketing['channel_code'].hist()"
   ]
  },
  {
   "cell_type": "code",
   "execution_count": 8,
   "metadata": {},
   "outputs": [
    {
     "name": "stdout",
     "output_type": "stream",
     "text": [
      "0    Yes\n",
      "1    Yes\n",
      "2    Yes\n",
      "3    Yes\n",
      "4    Yes\n",
      "Name: is_correct_lang, dtype: object\n",
      "['Yes' 'No']\n",
      "object\n"
     ]
    }
   ],
   "source": [
    "#add 'is_correct_lang' column to check if language_displayed and language_preferred are well matched\n",
    "import numpy as np\n",
    "marketing['is_correct_lang'] = np.where(marketing['language_displayed']==marketing['language_preferred'], 'Yes', 'No')\n",
    "print(marketing['is_correct_lang'].head())\n",
    "print(marketing['is_correct_lang'].unique())\n",
    "print(marketing['is_correct_lang'].dtype)"
   ]
  },
  {
   "cell_type": "code",
   "execution_count": 9,
   "metadata": {},
   "outputs": [
    {
     "name": "stdout",
     "output_type": "stream",
     "text": [
      "0    0.0\n",
      "1    0.0\n",
      "2    0.0\n",
      "3    0.0\n",
      "4    0.0\n",
      "Name: DoW, dtype: float64\n",
      "[ 0.  1.  2.  3.  4.  5.  6. nan]\n"
     ]
    }
   ],
   "source": [
    "#add DoW column to know the day of week on which a user subscribed\n",
    "marketing['DoW'] = marketing['date_subscribed'].dt.dayofweek\n",
    "print(marketing['DoW'].head())\n",
    "print(marketing['DoW'].unique())"
   ]
  },
  {
   "cell_type": "markdown",
   "metadata": {},
   "source": [
    "### check daily marketing reach by channel"
   ]
  },
  {
   "cell_type": "code",
   "execution_count": 10,
   "metadata": {},
   "outputs": [
    {
     "name": "stdout",
     "output_type": "stream",
     "text": [
      "date_served\n",
      "2018-01-01    362\n",
      "2018-01-02    374\n",
      "2018-01-03    348\n",
      "2018-01-04    323\n",
      "2018-01-05    319\n",
      "2018-01-06    308\n",
      "2018-01-07    275\n",
      "2018-01-08    312\n",
      "2018-01-09    312\n",
      "2018-01-10    337\n",
      "2018-01-11    310\n",
      "2018-01-12    301\n",
      "2018-01-13    306\n",
      "2018-01-14    305\n",
      "2018-01-15    767\n",
      "2018-01-16    388\n",
      "2018-01-17    369\n",
      "2018-01-18    318\n",
      "2018-01-19    305\n",
      "2018-01-20    311\n",
      "2018-01-21    229\n",
      "2018-01-22    178\n",
      "2018-01-23    172\n",
      "2018-01-24    190\n",
      "2018-01-25    184\n",
      "2018-01-26    222\n",
      "2018-01-27    320\n",
      "2018-01-28    320\n",
      "2018-01-29    319\n",
      "2018-01-30    317\n",
      "2018-01-31    340\n",
      "Name: user_id, dtype: int64\n"
     ]
    }
   ],
   "source": [
    "import matplotlib.pyplot as plt\n",
    "%matplotlib inline\n",
    "\n",
    "#daily marketing reach by channel\n",
    "daily_users = marketing.groupby('date_served')['user_id'].nunique()\n",
    "print(daily_users)"
   ]
  },
  {
   "cell_type": "code",
   "execution_count": 11,
   "metadata": {},
   "outputs": [
    {
     "data": {
      "image/png": "[encoded data removed]",
      "text/plain": [
       "<Figure size 432x288 with 1 Axes>"
      ]
     },
     "metadata": {
      "needs_background": "light"
     },
     "output_type": "display_data"
    }
   ],
   "source": [
    "#visualize\n",
    "daily_users.plot()\n",
    "\n",
    "plt.title('Daily users')\n",
    "plt.ylabel('Number of users')\n",
    "plt.xticks(rotation=45)\n",
    "\n",
    "plt.show()"
   ]
  },
  {
   "cell_type": "markdown",
   "metadata": {},
   "source": [
    "### analyzing common metrics - conversion rate & retention rate"
   ]
  },
  {
   "cell_type": "code",
   "execution_count": 24,
   "metadata": {},
   "outputs": [
    {
     "name": "stdout",
     "output_type": "stream",
     "text": [
      "conversion_rate:  14.09 %\n"
     ]
    }
   ],
   "source": [
    "#conversion rate\n",
    "total = marketing['user_id'].nunique()\n",
    "subscribers = marketing[marketing['converted']==True]['user_id'].nunique()\n",
    "conversion_rate = subscribers / total\n",
    "print(\"conversion_rate: \", round(conversion_rate*100, 2), \"%\")"
   ]
  },
  {
   "cell_type": "code",
   "execution_count": 31,
   "metadata": {},
   "outputs": [
    {
     "name": "stdout",
     "output_type": "stream",
     "text": [
      "696\n",
      "retention_rate:  67.57 %\n"
     ]
    }
   ],
   "source": [
    "#retention rate\n",
    "retained = marketing[(marketing['is_retained']==True) & (marketing['converted']==True)]['user_id'].nunique()\n",
    "retention_rate = retained / subscribers\n",
    "print(\"retention_rate: \", round(retention_rate*100, 2), \"%\")"
   ]
  },
  {
   "cell_type": "markdown",
   "metadata": {},
   "source": [
    "### <mark>! check this part later !</mark>"
   ]
  },
  {
   "cell_type": "code",
   "execution_count": 39,
   "metadata": {
    "scrolled": false
   },
   "outputs": [
    {
     "name": "stdout",
     "output_type": "stream",
     "text": [
      "       user_id  converted  is_retained\n",
      "22  a100000050      False         True\n",
      "24  a100000051      False         True\n",
      "26  a100000052      False         True\n",
      "28  a100000053      False         True\n",
      "30  a100000054      False         True\n"
     ]
    }
   ],
   "source": [
    "#if 'converted' is False, 'is_retained' should be False as well\n",
    "m = marketing[(marketing['is_retained']==True) & (marketing['converted']!=True)]\n",
    "print(m[['user_id','converted','is_retained']].head())\n",
    "\n",
    "#check later\n",
    "#marketing['is_retained'] = np.where(marketing['converted']==False, False)"
   ]
  },
  {
   "cell_type": "markdown",
   "metadata": {},
   "source": [
    "### customer segmentation\n",
    "* could be age, gender, location, past interactions with business, marketing channels, etc.\n",
    "* we'll explore segmentation by <u>marketing channel</u>"
   ]
  },
  {
   "cell_type": "code",
   "execution_count": 47,
   "metadata": {},
   "outputs": [
    {
     "name": "stdout",
     "output_type": "stream",
     "text": [
      "['English' 'German' 'Arabic' 'Spanish']\n",
      "English conversion rate: 13.13 %\n",
      "German conversion rate: 71.62 %\n",
      "Arabic conversion rate: 50.0 %\n",
      "Spanish conversion rate: 20.0 %\n"
     ]
    }
   ],
   "source": [
    "def conv_rate(column_name, language):\n",
    "    temp_df = marketing[marketing[column_name]==language]\n",
    "    total = temp_df['user_id'].nunique()\n",
    "    converted = temp_df[temp_df['converted']==True]['user_id'].nunique()\n",
    "    conversion_rate = converted/total\n",
    "    print(language,'conversion rate:', round(conversion_rate*100, 2), '%')\n",
    "    \n",
    "print(marketing['language_displayed'].unique())\n",
    "conv_rate('language_displayed', 'English')\n",
    "conv_rate('language_displayed', 'German')\n",
    "conv_rate('language_displayed', 'Arabic')\n",
    "conv_rate('language_displayed', 'Spanish')"
   ]
  },
  {
   "cell_type": "code",
   "execution_count": null,
   "metadata": {},
   "outputs": [],
   "source": []
  }
 ],
 "metadata": {
  "kernelspec": {
   "display_name": "Python 3",
   "language": "python",
   "name": "python3"
  },
  "language_info": {
   "codemirror_mode": {
    "name": "ipython",
    "version": 3
   },
   "file_extension": ".py",
   "mimetype": "text/x-python",
   "name": "python",
   "nbconvert_exporter": "python",
   "pygments_lexer": "ipython3",
   "version": "3.7.4"
  }
 },
 "nbformat": 4,
 "nbformat_minor": 2
}
