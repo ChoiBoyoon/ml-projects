{
 "cells": [
  {
   "cell_type": "markdown",
   "metadata": {},
   "source": [
    "### importing the data"
   ]
  },
  {
   "cell_type": "code",
   "execution_count": 7,
   "metadata": {
    "scrolled": true
   },
   "outputs": [
    {
     "name": "stdout",
     "output_type": "stream",
     "text": [
      "   Unnamed: 0     user_id date_served marketing_channel          variant  \\\n",
      "0           0  a100000029  2018-01-01         House Ads  personalization   \n",
      "1           1  a100000030  2018-01-01         House Ads  personalization   \n",
      "2           2  a100000031  2018-01-01         House Ads  personalization   \n",
      "3           3  a100000032  2018-01-01         House Ads  personalization   \n",
      "4           4  a100000033  2018-01-01         House Ads  personalization   \n",
      "\n",
      "   converted language_displayed language_preferred    age_group  \\\n",
      "0       True            English            English   0-18 years   \n",
      "1       True            English            English  19-24 years   \n",
      "2       True            English            English  24-30 years   \n",
      "3       True            English            English  30-36 years   \n",
      "4       True            English            English  36-45 years   \n",
      "\n",
      "  date_subscribed date_canceled subscribing_channel  is_retained  DoW  \\\n",
      "0      2018-01-01           NaN           House Ads         True  0.0   \n",
      "1      2018-01-01           NaN           House Ads         True  0.0   \n",
      "2      2018-01-01           NaN           House Ads         True  0.0   \n",
      "3      2018-01-01           NaN           House Ads         True  0.0   \n",
      "4      2018-01-01           NaN           House Ads         True  0.0   \n",
      "\n",
      "   channel_code is_correct_lang  \n",
      "0           1.0             Yes  \n",
      "1           1.0             Yes  \n",
      "2           1.0             Yes  \n",
      "3           1.0             Yes  \n",
      "4           1.0             Yes  \n"
     ]
    }
   ],
   "source": [
    "import pandas as pd\n",
    "\n",
    "marketing = pd.read_csv(\"marketing_new.csv\")\n",
    "print(marketing.head())"
   ]
  },
  {
   "cell_type": "markdown",
   "metadata": {},
   "source": [
    "### examining the data (ensuring the validity of the dataset)"
   ]
  },
  {
   "cell_type": "code",
   "execution_count": 11,
   "metadata": {},
   "outputs": [
    {
     "name": "stdout",
     "output_type": "stream",
     "text": [
      "        Unnamed: 0          DoW  channel_code\n",
      "count  10037.00000  1856.000000   1856.000000\n",
      "mean    5018.00000     2.529634      2.631466\n",
      "std     2897.57666     1.937900      1.211340\n",
      "min        0.00000     0.000000      1.000000\n",
      "25%     2509.00000     1.000000      2.000000\n",
      "50%     5018.00000     2.000000      2.000000\n",
      "75%     7527.00000     4.000000      3.000000\n",
      "max    10036.00000     6.000000      5.000000\n"
     ]
    }
   ],
   "source": [
    "#print the summary statistics\n",
    "print(marketing.describe())"
   ]
  },
  {
   "cell_type": "code",
   "execution_count": null,
   "metadata": {},
   "outputs": [],
   "source": [
    "print(marketing.info())"
   ]
  }
 ],
 "metadata": {
  "kernelspec": {
   "display_name": "Python 3",
   "language": "python",
   "name": "python3"
  },
  "language_info": {
   "codemirror_mode": {
    "name": "ipython",
    "version": 3
   },
   "file_extension": ".py",
   "mimetype": "text/x-python",
   "name": "python",
   "nbconvert_exporter": "python",
   "pygments_lexer": "ipython3",
   "version": "3.7.4"
  }
 },
 "nbformat": 4,
 "nbformat_minor": 2
}
